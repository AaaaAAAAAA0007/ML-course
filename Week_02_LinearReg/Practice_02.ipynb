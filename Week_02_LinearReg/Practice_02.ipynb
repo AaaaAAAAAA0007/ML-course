{
  "nbformat": 4,
  "nbformat_minor": 0,
  "metadata": {
    "colab": {
      "provenance": []
    },
    "kernelspec": {
      "name": "python3",
      "display_name": "Python 3"
    },
    "language_info": {
      "name": "python"
    }
  },
  "cells": [
    {
      "cell_type": "markdown",
      "source": [
        "# Линейная регрессия"
      ],
      "metadata": {
        "id": "YzaXWjuM4v6i"
      }
    },
    {
      "cell_type": "markdown",
      "source": [
        "Подключение необходимых библиотек"
      ],
      "metadata": {
        "id": "m8xgnBJJ5BOL"
      }
    },
    {
      "cell_type": "code",
      "source": [
        "import numpy as np\n",
        "import pandas as pd\n",
        "import matplotlib.pyplot as plt\n",
        "import seaborn as sns\n",
        "from sklearn import datasets\n",
        "from sklearn import metrics\n",
        "from sklearn.linear_model import LinearRegression, SGDRegressor\n",
        "from sklearn.model_selection import train_test_split\n",
        "from sklearn.preprocessing import StandardScaler"
      ],
      "metadata": {
        "id": "pz_9A76bYD5U"
      },
      "execution_count": null,
      "outputs": []
    },
    {
      "cell_type": "markdown",
      "source": [
        "Определение функции, описывающей линейную зависимость"
      ],
      "metadata": {
        "id": "Is7EZ8rt2YZr"
      }
    },
    {
      "cell_type": "code",
      "source": [
        "def linEquation(w,x,b):\n",
        "    return w * x + b"
      ],
      "metadata": {
        "id": "-LLPbiSSeodp"
      },
      "execution_count": null,
      "outputs": []
    },
    {
      "cell_type": "markdown",
      "source": [
        "Объявление переменных:\n",
        "\n",
        "\n",
        "* numSample = количество объектов в выборке\n",
        "* noisePower = уровень шума\n",
        "* linearCoef = значение веса w\n",
        "* linearBias = значение свободного члена b\n",
        "\n"
      ],
      "metadata": {
        "id": "n1zgYcqWCj1w"
      }
    },
    {
      "cell_type": "code",
      "source": [
        "numSamples = 500\n",
        "noisePower = 7\n",
        "linearCoef = 5\n",
        "linearBias = 3"
      ],
      "metadata": {
        "id": "9cPqiyIoCmGn"
      },
      "execution_count": null,
      "outputs": []
    },
    {
      "cell_type": "markdown",
      "source": [
        "Генерация датасета"
      ],
      "metadata": {
        "id": "cuyjznwM6ChS"
      }
    },
    {
      "cell_type": "code",
      "source": [
        "X = np.linspace(-5, 5, numSamples)\n",
        "Y = linEquation(linearCoef, X, linearBias) + np.random.randn(numSamples) * noisePower\n",
        "X = X.reshape(-1,1)\n",
        "X_train, X_test, Y_train, Y_test = train_test_split(X, Y, train_size = 0.8)"
      ],
      "metadata": {
        "id": "SgqkEu_dqxrt"
      },
      "execution_count": null,
      "outputs": []
    },
    {
      "cell_type": "markdown",
      "source": [
        "Визуализация сгенерированного датасета"
      ],
      "metadata": {
        "id": "XZYVPK2S69U6"
      }
    },
    {
      "cell_type": "code",
      "source": [
        "plt.figure(figsize=(10, 7))\n",
        "#plt.plot(X, linEquation(linearCoef, X, linearBias), label='Regression line', c='black')\n",
        "plt.scatter(X_train, Y_train, label='Train samples', c='blue')\n",
        "plt.scatter(X_test, Y_test, label='Test samples', c='orange')\n",
        "plt.title(\"Generated dataset\")\n",
        "plt.grid(alpha=0.2)\n",
        "plt.legend()\n",
        "plt.show()"
      ],
      "metadata": {
        "id": "FBYM4rUjqxjG"
      },
      "execution_count": null,
      "outputs": []
    },
    {
      "cell_type": "markdown",
      "source": [
        "Стандартизация данных"
      ],
      "metadata": {
        "id": "bfjkWvLp_f9g"
      }
    },
    {
      "cell_type": "code",
      "source": [
        "scaler = StandardScaler()\n",
        "X_train_scaled = scaler.fit_transform(X_train)\n",
        "X_test_scaled = scaler.transform(X_test)"
      ],
      "metadata": {
        "id": "9H1_QhPK_hOI"
      },
      "execution_count": null,
      "outputs": []
    },
    {
      "cell_type": "markdown",
      "source": [
        "Обучение модели и получение прогнозов на тестовой выборке\n"
      ],
      "metadata": {
        "id": "zZeQaf4S71jB"
      }
    },
    {
      "cell_type": "code",
      "source": [
        "# linear regression by OLS method\n",
        "model = LinearRegression()\n",
        "model.fit(X_train, Y_train)\n",
        "Y_pred = model.predict(X_test)\n",
        "#print(Y_pred)"
      ],
      "metadata": {
        "id": "h5DHeYJqq3am"
      },
      "execution_count": null,
      "outputs": []
    },
    {
      "cell_type": "markdown",
      "source": [
        "Отображение коэффициентов, полученных моделью"
      ],
      "metadata": {
        "id": "lXm0iMfaEBTX"
      }
    },
    {
      "cell_type": "code",
      "source": [
        "print('Estimated weight is', np.round(model.coef_,2), 'true weight is', linearCoef)\n",
        "print('Estimated bias is', np.round(model.intercept_,2), 'true bias is', linearBias)"
      ],
      "metadata": {
        "id": "yf6oXyIYD_i_"
      },
      "execution_count": null,
      "outputs": []
    },
    {
      "cell_type": "markdown",
      "source": [
        "Оценка метрик на тестовом датасете"
      ],
      "metadata": {
        "id": "W4l8bjus8BIw"
      }
    },
    {
      "cell_type": "code",
      "source": [
        "MSE_test = metrics.mean_squared_error(Y_test, Y_pred)\n",
        "MSE_r2_test = metrics.r2_score(Y_test, Y_pred)\n",
        "print('Mean squared error:', MSE_test)\n",
        "print('R2 score:', MSE_r2_test)"
      ],
      "metadata": {
        "id": "VlZeHqXNrvl-"
      },
      "execution_count": null,
      "outputs": []
    },
    {
      "cell_type": "markdown",
      "source": [
        "Визуализация оценок обученной модели"
      ],
      "metadata": {
        "id": "UMirbIREDoq-"
      }
    },
    {
      "cell_type": "code",
      "source": [
        "plt.figure(figsize=(10, 7))\n",
        "plt.plot(X, linEquation(linearCoef, X, linearBias), label='real', c='g')\n",
        "plt.scatter(X_train, Y_train, label='train')\n",
        "plt.scatter(X_test, Y_test, label='test')\n",
        "plt.plot(X_train, model.predict(X_train), label='Train', c='r', linestyle=':')\n",
        "plt.plot(X_test, Y_pred, label='Test', c='black', linestyle=':')\n",
        "plt.title(\"Regression line on train and test set\")\n",
        "plt.ylabel('target')\n",
        "plt.xlabel('feature')\n",
        "plt.grid(alpha=0.2)\n",
        "plt.legend()\n",
        "plt.show()"
      ],
      "metadata": {
        "id": "eOcBiCaly6NT"
      },
      "execution_count": null,
      "outputs": []
    },
    {
      "cell_type": "markdown",
      "source": [
        "Сгенерируем датасет с несколькими признаками"
      ],
      "metadata": {
        "id": "YWfiTEPpGDBu"
      }
    },
    {
      "cell_type": "code",
      "source": [
        "import numpy as np\n",
        "import pandas as pd\n",
        "import matplotlib.pyplot as plt\n",
        "from sklearn.linear_model import LinearRegression"
      ],
      "metadata": {
        "id": "GQKFiIpGGLXe"
      },
      "execution_count": null,
      "outputs": []
    },
    {
      "cell_type": "markdown",
      "source": [
        "Переопределим переменные"
      ],
      "metadata": {
        "id": "Pl7G7-2xR906"
      }
    },
    {
      "cell_type": "code",
      "source": [
        "linearCoef = 6.66\n",
        "linearBias = 1.5"
      ],
      "metadata": {
        "id": "Kkk9wjUAR_mK"
      },
      "execution_count": null,
      "outputs": []
    },
    {
      "cell_type": "markdown",
      "source": [
        "Создадим один информативный признак X1 <br>\n",
        "Признаки X2 - X5 - линейные комбинации исходного признака X1 <br>\n",
        "Признак X6 - белый шум"
      ],
      "metadata": {
        "id": "HoAJiiK9Qc_s"
      }
    },
    {
      "cell_type": "code",
      "source": [
        "np.random.seed(42)\n",
        "numSamples = 500\n",
        "X1 = np.linspace(-10, 10, numSamples) + np.random.randn(numSamples)\n",
        "X2 = 2.2 * X1 + np.random.randn(numSamples) * 5.5\n",
        "X3 = 3.3 * X1 + np.random.randn(numSamples) * 4.4\n",
        "X4 = 4.4 * X1 + np.random.randn(numSamples) * 3.3\n",
        "X5 = 5.5 * X1 + np.random.randn(numSamples) * 2.2\n",
        "X6 = np.random.randn(numSamples) * 20\n",
        "Y = linEquation(linearCoef, X1, linearBias) + np.random.randn(numSamples) * 1.1\n",
        "X = np.column_stack((X1, X2, X3, X4, X5, X6))\n",
        "print('Design matrix size is', X.shape)"
      ],
      "metadata": {
        "id": "l7se2A3WMB7U"
      },
      "execution_count": null,
      "outputs": []
    },
    {
      "cell_type": "markdown",
      "source": [
        "Построение матрицы корреляции"
      ],
      "metadata": {
        "id": "u99Vn-3MRYiD"
      }
    },
    {
      "cell_type": "code",
      "source": [
        "correlation_matrix  = np.corrcoef(X, rowvar=False)\n",
        "plt.imshow(correlation_matrix, cmap='coolwarm', interpolation='nearest')\n",
        "plt.colorbar()\n",
        "plt.title('Correlation Matrix Heatmap')\n",
        "plt.xticks(range(6), ['X1', 'X2', 'X3', 'X4', 'X5', 'X6'])\n",
        "plt.yticks(range(6), ['X1', 'X2', 'X3', 'X4', 'X5', 'X6'])\n",
        "plt.show()"
      ],
      "metadata": {
        "id": "9F9zy5cROrxM"
      },
      "execution_count": null,
      "outputs": []
    },
    {
      "cell_type": "markdown",
      "source": [
        "Обучение и оценка модели"
      ],
      "metadata": {
        "id": "Rf5NWyOlRn5S"
      }
    },
    {
      "cell_type": "code",
      "source": [
        "X_train, X_test, Y_train, Y_test = train_test_split(X, Y, train_size = 0.8)\n",
        "# features z-transform\n",
        "scaler = StandardScaler()\n",
        "X_train_scaled = scaler.fit_transform(X_train)\n",
        "X_test_scaled = scaler.transform(X_test)\n",
        "# model definition\n",
        "modelOLS = LinearRegression()\n",
        "modelOLS.fit(X_train, Y_train)\n",
        "Y_pred = modelOLS.predict(X_test)\n",
        "MSE_test = metrics.mean_squared_error(Y_test, Y_pred)\n",
        "MSE_r2_test = metrics.r2_score(Y_test, Y_pred)\n",
        "print('Mean squared error:', MSE_test)\n",
        "print('R2 score:', MSE_r2_test)"
      ],
      "metadata": {
        "id": "lB5dN5GkNTAE"
      },
      "execution_count": null,
      "outputs": []
    },
    {
      "cell_type": "markdown",
      "source": [
        "Вывод коэффициентов модели"
      ],
      "metadata": {
        "id": "iTwrQBKqYXWx"
      }
    },
    {
      "cell_type": "code",
      "source": [
        "print('Estimated weights is', modelOLS.coef_)\n",
        "print('Estimated bias is', modelOLS.intercept_)"
      ],
      "metadata": {
        "id": "EYsTNhMlNbo8"
      },
      "execution_count": null,
      "outputs": []
    },
    {
      "cell_type": "code",
      "source": [
        "modelSGD = SGDRegressor(loss='squared_error', penalty = 'l2', max_iter = 10,\n",
        "                             tol = None, eta0 = 0.01, learning_rate = 'constant',\n",
        "                             random_state = 42)"
      ],
      "metadata": {
        "id": "_G26EXgqZEka"
      },
      "execution_count": null,
      "outputs": []
    },
    {
      "cell_type": "markdown",
      "source": [
        "loss - The loss function to be used <br>\n",
        "penalty - regularization term <br>\n",
        "tol - the stopping criterion <br>\n",
        "eta0 - initial learning rate <br>\n",
        "learning_rate - LR schedule"
      ],
      "metadata": {
        "id": "aEt3I26Jadrp"
      }
    },
    {
      "cell_type": "code",
      "source": [
        "modelSGD.fit(X_train_scaled, Y_train)"
      ],
      "metadata": {
        "id": "kX4eRVX4cJ6Y"
      },
      "execution_count": null,
      "outputs": []
    },
    {
      "cell_type": "code",
      "source": [
        "Y_pred_sgd = modelSGD.predict(X_train_scaled)\n",
        "MSE_test = metrics.mean_squared_error(Y_train, Y_pred_sgd)\n",
        "MSE_r2_test = metrics.r2_score(Y_train, Y_pred_sgd)\n",
        "print('Mean squared error:', MSE_test)\n",
        "print('R2 score:', MSE_r2_test)"
      ],
      "metadata": {
        "id": "WQ4QwrJ2bo7G"
      },
      "execution_count": null,
      "outputs": []
    },
    {
      "cell_type": "code",
      "source": [
        "Y_pred_sgd = modelSGD.predict(X_test_scaled)\n",
        "MSE_test = metrics.mean_squared_error(Y_test, Y_pred_sgd)\n",
        "MSE_r2_test = metrics.r2_score(Y_test, Y_pred_sgd)\n",
        "print('Mean squared error:', MSE_test)\n",
        "print('R2 score:', MSE_r2_test)"
      ],
      "metadata": {
        "id": "b45-lrQYc_xJ"
      },
      "execution_count": null,
      "outputs": []
    },
    {
      "cell_type": "code",
      "source": [
        "SGD_pred = modelSGD.predict(X_test_scaled)\n",
        "OLS_pred = modelOLS.predict(X_test)"
      ],
      "metadata": {
        "id": "DDKX3dyGdOS4"
      },
      "execution_count": null,
      "outputs": []
    },
    {
      "cell_type": "code",
      "source": [
        "plt.figure(figsize=(10, 7))\n",
        "plt.scatter(X_test_scaled[:,0], Y_test, label ='Scaled sample distribution')\n",
        "plt.scatter(X_test[:,0], Y_test, label ='Unscaled sample distribution')\n",
        "plt.plot(X_test_scaled[:,0], SGD_pred, label='SGD', c='red', linestyle='solid')\n",
        "plt.plot(X_test[:,0], OLS_pred, label='OLS', c='black', linestyle='solid')\n",
        "plt.title(\"OLS vs SGD\")\n",
        "plt.ylabel('target')\n",
        "plt.xlabel('feature')\n",
        "plt.grid(alpha = 0.2)\n",
        "plt.legend()\n",
        "plt.show()"
      ],
      "metadata": {
        "id": "R1BfT6PuewN_"
      },
      "execution_count": null,
      "outputs": []
    }
  ]
}