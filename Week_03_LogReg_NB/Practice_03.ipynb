{
  "nbformat": 4,
  "nbformat_minor": 0,
  "metadata": {
    "colab": {
      "provenance": []
    },
    "kernelspec": {
      "name": "python3",
      "display_name": "Python 3"
    },
    "language_info": {
      "name": "python"
    }
  },
  "cells": [
    {
      "cell_type": "markdown",
      "source": [
        "# Линейные модели классификации. Наивный байесовский классификатор."
      ],
      "metadata": {
        "id": "BMaMNquK2byM"
      }
    },
    {
      "cell_type": "markdown",
      "source": [
        "Подключение необходимых библиотек"
      ],
      "metadata": {
        "id": "yiUHup-_2lGd"
      }
    },
    {
      "cell_type": "code",
      "source": [
        "import pandas as pd\n",
        "import numpy as np\n",
        "\n",
        "import matplotlib.pyplot as plt\n",
        "import seaborn as sns\n",
        "\n",
        "from sklearn.model_selection import train_test_split\n",
        "from sklearn.linear_model import LogisticRegression, SGDClassifier\n",
        "from sklearn.naive_bayes import GaussianNB\n",
        "from sklearn.metrics import accuracy_score"
      ],
      "metadata": {
        "id": "B1H9QP7j2KbM"
      },
      "execution_count": null,
      "outputs": []
    },
    {
      "cell_type": "markdown",
      "source": [
        "Загрузка датасета с google drive"
      ],
      "metadata": {
        "id": "CKY5oa_K25Fk"
      }
    },
    {
      "cell_type": "code",
      "source": [
        "# fixed random state for reproducibility\n",
        "np.random.seed(42)"
      ],
      "metadata": {
        "id": "cRXycOBuES0c"
      },
      "execution_count": null,
      "outputs": []
    },
    {
      "cell_type": "code",
      "execution_count": null,
      "metadata": {
        "id": "3CLvoOeNwu6w"
      },
      "outputs": [],
      "source": [
        "url='https://drive.google.com/file/d/1BTng9OFk4gbwiTTnWpn4bo65P45txm9z/view?usp=drive_link'\n",
        "url='https://drive.google.com/uc?id=' + url.split('/')[-2]\n",
        "data = pd.read_csv(url)"
      ]
    },
    {
      "cell_type": "markdown",
      "source": [
        "Получение информации о датасете"
      ],
      "metadata": {
        "id": "6F0kjqGU3WMr"
      }
    },
    {
      "cell_type": "code",
      "source": [
        "print(f\"Размер датасета: {data.shape}\")"
      ],
      "metadata": {
        "id": "keSGygSH3cnD"
      },
      "execution_count": null,
      "outputs": []
    },
    {
      "cell_type": "code",
      "source": [
        "print(data.info())"
      ],
      "metadata": {
        "id": "Q7sQc5Ug12Ts"
      },
      "execution_count": null,
      "outputs": []
    },
    {
      "cell_type": "code",
      "source": [
        "print(data.describe())"
      ],
      "metadata": {
        "id": "rA3AfITJ3EUb"
      },
      "execution_count": null,
      "outputs": []
    },
    {
      "cell_type": "code",
      "source": [
        "data.hist()"
      ],
      "metadata": {
        "id": "zBmmAeCc17x-"
      },
      "execution_count": null,
      "outputs": []
    },
    {
      "cell_type": "markdown",
      "source": [
        "Разделяем признаки и таргеты"
      ],
      "metadata": {
        "id": "ECCqrBSr40dM"
      }
    },
    {
      "cell_type": "code",
      "source": [
        "X = data[['X1','X2']]\n",
        "Y = data['Label']"
      ],
      "metadata": {
        "id": "qoD6D7Mh4xgE"
      },
      "execution_count": null,
      "outputs": []
    },
    {
      "cell_type": "markdown",
      "source": [
        "Разделение датасета на обучающую и тестовую выборку"
      ],
      "metadata": {
        "id": "PTOwcaYu4Em8"
      }
    },
    {
      "cell_type": "code",
      "source": [
        "X_train, X_test, Y_train, Y_test = train_test_split(X, Y, train_size = 0.8, random_state = 42)"
      ],
      "metadata": {
        "id": "Z2t0xC7G4Jxk"
      },
      "execution_count": null,
      "outputs": []
    },
    {
      "cell_type": "markdown",
      "source": [
        "Обучение модели логистической регрессии"
      ],
      "metadata": {
        "id": "UpieNl_64SRL"
      }
    },
    {
      "cell_type": "code",
      "source": [
        "model = LogisticRegression(penalty = 'l2')\n",
        "model.fit(X_train, Y_train)"
      ],
      "metadata": {
        "id": "thY5O9Mm4EEs"
      },
      "execution_count": null,
      "outputs": []
    },
    {
      "cell_type": "markdown",
      "source": [
        "Получение прогнозов: метки классов и вероятности"
      ],
      "metadata": {
        "id": "4nQdXbU95Eh0"
      }
    },
    {
      "cell_type": "code",
      "source": [
        "Y_pred = model.predict(X_test)\n",
        "Y_prob = model.predict_proba(X_test)"
      ],
      "metadata": {
        "id": "7jzTS4GZ5Jj_"
      },
      "execution_count": null,
      "outputs": []
    },
    {
      "cell_type": "markdown",
      "source": [
        "Оценим обученную модель с помощью метрики accuracy"
      ],
      "metadata": {
        "id": "OB8SIc5a6Zdc"
      }
    },
    {
      "cell_type": "code",
      "source": [
        "Acc_pred = accuracy_score(Y_test, Y_pred)\n",
        "threshold = 0.5\n",
        "Acc_prob = accuracy_score(Y_test, Y_prob[:,1] > 0.5)\n",
        "print(f'Доля правильных ответов с использованием полученной метки класса:', np.round(Acc_pred, 4))\n",
        "print(f'Доля правильных ответов с использованием вероятности:', np.round(Acc_prob, 4))\n",
        "print('Коэффициенты модели:', model.coef_)"
      ],
      "metadata": {
        "id": "rTGEkwT55ukk"
      },
      "execution_count": null,
      "outputs": []
    },
    {
      "cell_type": "markdown",
      "source": [
        "Построим график зависимости accuracy от значения выбранного порога"
      ],
      "metadata": {
        "id": "qAt-8w4k9Mdc"
      }
    },
    {
      "cell_type": "code",
      "source": [
        "thresholds = np.arange(0.01, 1, 0.01)\n",
        "acc_LR_list = []"
      ],
      "metadata": {
        "id": "hKa_CWLY7mHU"
      },
      "execution_count": null,
      "outputs": []
    },
    {
      "cell_type": "code",
      "source": [
        "for t in thresholds:\n",
        "  acc_LR = accuracy_score(Y_test, Y_prob[:,1] > t)\n",
        "  acc_LR_list.append(acc_LR)"
      ],
      "metadata": {
        "id": "HdXtbhvZ8Z5D"
      },
      "execution_count": null,
      "outputs": []
    },
    {
      "cell_type": "code",
      "source": [
        "print(acc_LR_list)"
      ],
      "metadata": {
        "id": "NlUW9cgg8kb8"
      },
      "execution_count": null,
      "outputs": []
    },
    {
      "cell_type": "code",
      "source": [
        "plt.figure(figsize=(10, 6))\n",
        "plt.plot(thresholds, acc_LR_list, label='Accuracy')\n",
        "plt.xlabel('Threshold')\n",
        "plt.ylabel('Accuracy')\n",
        "plt.title('Logistic Regression: accuracy vs threshold')\n",
        "plt.legend()\n",
        "plt.grid(True)\n",
        "plt.show()"
      ],
      "metadata": {
        "id": "pdMxckkB8tFD"
      },
      "execution_count": null,
      "outputs": []
    },
    {
      "cell_type": "markdown",
      "source": [
        "Попробуем использовать наивный байесовский классификатор для решения той же задачи"
      ],
      "metadata": {
        "id": "us2g_LqM9sXs"
      }
    },
    {
      "cell_type": "code",
      "source": [
        "gnb = GaussianNB()\n",
        "gnb.fit(X_train, Y_train)\n",
        "gnb_pred = gnb.predict(X_test)\n",
        "gnb_prob = gnb.predict_proba(X_test)\n",
        "gnb_score = accuracy_score(Y_test, gnb_pred)\n",
        "print(f'Доля правильных ответов NB classifier:', np.round(gnb_score, 4))"
      ],
      "metadata": {
        "id": "EQjJ213U9xJL"
      },
      "execution_count": null,
      "outputs": []
    },
    {
      "cell_type": "code",
      "source": [
        "acc_NB_list = []\n",
        "for t in thresholds:\n",
        "  acc_NB = accuracy_score(Y_test, gnb_prob[:,1] > t)\n",
        "  acc_NB_list.append(acc_NB)\n",
        "\n",
        "print(acc_NB_list)"
      ],
      "metadata": {
        "id": "ybstxpCE-wcN"
      },
      "execution_count": null,
      "outputs": []
    },
    {
      "cell_type": "code",
      "source": [
        "plt.figure(figsize=(10, 6))\n",
        "plt.plot(thresholds, acc_NB_list, label='Accuracy')\n",
        "plt.xlabel('Threshold')\n",
        "plt.ylabel('Accuracy')\n",
        "plt.title('Naive bayes: accuracy vs threshold')\n",
        "plt.legend()\n",
        "plt.grid(True)\n",
        "plt.show()"
      ],
      "metadata": {
        "id": "DFaL74KH_U7K"
      },
      "execution_count": null,
      "outputs": []
    },
    {
      "cell_type": "markdown",
      "source": [
        "# Задание для самостоятельной работы\n",
        "На этом же датасете необходимо получить значение **accuracy > 0.9** на тестовой выборке. <br> Разрешается использовать **только** **логистическую регрессию**"
      ],
      "metadata": {
        "id": "PkKx5Lm8_uqp"
      }
    },
    {
      "cell_type": "code",
      "source": [
        "# Your code here\n"
      ],
      "metadata": {
        "id": "Lm_3YekN_9n1"
      },
      "execution_count": null,
      "outputs": []
    }
  ]
}