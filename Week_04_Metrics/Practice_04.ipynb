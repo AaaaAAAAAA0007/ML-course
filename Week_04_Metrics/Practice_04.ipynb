{
  "nbformat": 4,
  "nbformat_minor": 0,
  "metadata": {
    "colab": {
      "provenance": []
    },
    "kernelspec": {
      "name": "python3",
      "display_name": "Python 3"
    },
    "language_info": {
      "name": "python"
    }
  },
  "cells": [
    {
      "cell_type": "markdown",
      "source": [
        "# Метрики классификации"
      ],
      "metadata": {
        "id": "4FhefxfOEitQ"
      }
    },
    {
      "cell_type": "markdown",
      "source": [
        "Подключение необходимых библиотек"
      ],
      "metadata": {
        "id": "aGZnkiH7EqAM"
      }
    },
    {
      "cell_type": "code",
      "execution_count": 1,
      "metadata": {
        "id": "AG7vssT9up6B"
      },
      "outputs": [],
      "source": [
        "import numpy as np\n",
        "from sklearn.datasets import make_classification\n",
        "from sklearn.model_selection import train_test_split, GridSearchCV\n",
        "from sklearn.linear_model import LogisticRegression\n",
        "from sklearn.neighbors import KNeighborsClassifier\n",
        "from sklearn import metrics"
      ]
    },
    {
      "cell_type": "markdown",
      "source": [
        "Генерация синтетических данных"
      ],
      "metadata": {
        "id": "wBuXa9dLEteB"
      }
    },
    {
      "cell_type": "code",
      "source": [
        "X, Y = make_classification(n_samples = 10000, n_features = 10, n_classes = 2,\n",
        "                           weights = [0.95, 0.05], flip_y = 0, random_state = 42)\n",
        "print(type(X), type(Y))"
      ],
      "metadata": {
        "colab": {
          "base_uri": "https://localhost:8080/"
        },
        "id": "Je9TM3xCuq0Q",
        "outputId": "6e1301e4-f420-42e3-f0b2-22edd34fdd8c"
      },
      "execution_count": 2,
      "outputs": [
        {
          "output_type": "stream",
          "name": "stdout",
          "text": [
            "<class 'numpy.ndarray'> <class 'numpy.ndarray'>\n"
          ]
        }
      ]
    },
    {
      "cell_type": "markdown",
      "source": [
        "Разделяем выборку на три - обучающую, валидационную и тестовую. <br>\n",
        "Обучающую используем непосредственно для обучения (fit). <br>\n",
        "Валидационную используем для подбора гиперпараметров. <br>\n",
        "Тестовую для окончательной оценки модели."
      ],
      "metadata": {
        "id": "jARi7scMExQB"
      }
    },
    {
      "cell_type": "code",
      "source": [
        "X_train, X_tmp, Y_train, Y_tmp = train_test_split(X, Y, train_size = 0.8, shuffle = True, stratify = Y, random_state = 42)\n",
        "X_valid, X_test, Y_valid, Y_test = train_test_split(X_tmp, Y_tmp, train_size = 0.5, shuffle = True, stratify = Y_tmp, random_state = 42)\n",
        "\n",
        "print('Train set size is', X_train.shape)\n",
        "print('Valid set size is', X_valid.shape)\n",
        "print('Test set size is', X_test.shape)"
      ],
      "metadata": {
        "colab": {
          "base_uri": "https://localhost:8080/"
        },
        "id": "u93iodRousFD",
        "outputId": "2e86f53d-3e28-4e3d-866e-54c7e24f5697"
      },
      "execution_count": 3,
      "outputs": [
        {
          "output_type": "stream",
          "name": "stdout",
          "text": [
            "Train set size is (8000, 10)\n",
            "Valid set size is (1000, 10)\n",
            "Test set size is (1000, 10)\n"
          ]
        }
      ]
    },
    {
      "cell_type": "markdown",
      "source": [
        "В качестве модели выбираем KNN классификатор"
      ],
      "metadata": {
        "id": "uC1vKNlZFDnr"
      }
    },
    {
      "cell_type": "code",
      "source": [
        "model = KNeighborsClassifier(n_neighbors = 5)\n",
        "model.fit(X_train, Y_train)\n",
        "\n",
        "Y_pred_train = model.predict(X_train)\n",
        "Y_pred_valid = model.predict(X_valid)"
      ],
      "metadata": {
        "id": "hxNJbmBAuvJW"
      },
      "execution_count": 4,
      "outputs": []
    },
    {
      "cell_type": "markdown",
      "source": [
        "Define accuracy function"
      ],
      "metadata": {
        "id": "DUW9vkdE3OcH"
      }
    },
    {
      "cell_type": "code",
      "source": [
        "def accuracy_fcn(y_true, y_pred):\n",
        "    acc = sum(y_true == y_pred)/len(y_true)\n",
        "    return acc\n",
        "\n",
        "print('Train accuracy score is', accuracy_fcn(Y_train, Y_pred_train))\n",
        "print('Valid accuracy score is', accuracy_fcn(Y_valid, Y_pred_valid))"
      ],
      "metadata": {
        "colab": {
          "base_uri": "https://localhost:8080/"
        },
        "id": "p-KZ6_9tuvDL",
        "outputId": "61b92211-0a57-470a-a44c-78212e622fee"
      },
      "execution_count": 5,
      "outputs": [
        {
          "output_type": "stream",
          "name": "stdout",
          "text": [
            "Train accuracy score is 0.974\n",
            "Valid accuracy score is 0.965\n"
          ]
        }
      ]
    },
    {
      "cell_type": "markdown",
      "source": [
        "Строим метрики модели"
      ],
      "metadata": {
        "id": "lNmtiKqkFNw-"
      }
    },
    {
      "cell_type": "code",
      "source": [
        "accuracy = metrics.accuracy_score(Y_valid, Y_pred_valid)\n",
        "precision = metrics.precision_score(Y_valid, Y_pred_valid)\n",
        "recall = metrics.recall_score(Y_valid, Y_pred_valid)\n",
        "f1 = metrics.f1_score(Y_valid, Y_pred_valid)\n",
        "\n",
        "print(f'Accuracy: {accuracy:.2f}')\n",
        "print(f'Precision: {precision:.2f}')\n",
        "print(f'Recall: {recall:.2f}')\n",
        "print(f'F1 Score: {f1:.2f}')"
      ],
      "metadata": {
        "colab": {
          "base_uri": "https://localhost:8080/"
        },
        "id": "O56xuUNcuwaf",
        "outputId": "3032d436-2d17-4f1e-f58f-d0ca0418d747"
      },
      "execution_count": 6,
      "outputs": [
        {
          "output_type": "stream",
          "name": "stdout",
          "text": [
            "Accuracy: 0.96\n",
            "Precision: 0.74\n",
            "Recall: 0.46\n",
            "F1 Score: 0.57\n"
          ]
        }
      ]
    },
    {
      "cell_type": "code",
      "source": [
        "cmValid = metrics.confusion_matrix(Y_valid, Y_pred_valid)\n",
        "disp = metrics.ConfusionMatrixDisplay(confusion_matrix = cmValid)\n",
        "disp.plot()"
      ],
      "metadata": {
        "colab": {
          "base_uri": "https://localhost:8080/",
          "height": 466
        },
        "id": "mVWVEr6gvhl4",
        "outputId": "42374784-5d9a-4533-9d5b-7dbb05f11a3d"
      },
      "execution_count": 7,
      "outputs": [
        {
          "output_type": "execute_result",
          "data": {
            "text/plain": [
              "<sklearn.metrics._plot.confusion_matrix.ConfusionMatrixDisplay at 0x7d21a430ada0>"
            ]
          },
          "metadata": {},
          "execution_count": 7
        },
        {
          "output_type": "display_data",
          "data": {
            "text/plain": [
              "<Figure size 640x480 with 2 Axes>"
            ],
            "image/png": "[encoded data removed]"
          },
          "metadata": {}
        }
      ]
    },
    {
      "cell_type": "code",
      "source": [
        "TN = cmValid[0,0]\n",
        "TP = cmValid[1,1]\n",
        "FP = cmValid[0,1]\n",
        "FN = cmValid[1,0]\n",
        "print('Validation confusion matrix')\n",
        "print(TN, FP)\n",
        "print(FN, TP)\n",
        "R = TP/(TP+FN)\n",
        "print('Recall score is', np.round(R,2))"
      ],
      "metadata": {
        "colab": {
          "base_uri": "https://localhost:8080/"
        },
        "id": "8hvZ20Cf_IMZ",
        "outputId": "df358b60-875f-48e9-88ac-6eb664d273b0"
      },
      "execution_count": 8,
      "outputs": [
        {
          "output_type": "stream",
          "name": "stdout",
          "text": [
            "Validation confusion matrix\n",
            "942 8\n",
            "27 23\n",
            "Recall score is 0.46\n"
          ]
        }
      ]
    },
    {
      "cell_type": "markdown",
      "source": [
        "Реализуем метод Grid Search"
      ],
      "metadata": {
        "id": "EyZ6ux-ZJmDW"
      }
    },
    {
      "cell_type": "code",
      "source": [
        "paramValidScores = []\n",
        "paramDict = {'n_neighbors': np.arange(1, 16, 1)}\n",
        "for key in paramDict:\n",
        "    (key, paramDict[key])\n",
        "    paramList = paramDict[key]\n",
        "    for index in range(0, len(paramList), 1):\n",
        "        optModel = KNeighborsClassifier(n_neighbors = 5)\n",
        "        grid = {key:paramList[index]}\n",
        "        optModel.set_params(**grid)\n",
        "        print('Start training model with', key, '=', paramList[index])\n",
        "        optModel.fit(X_train, Y_train)\n",
        "        optModel_pred_valid = optModel.predict(X_valid)\n",
        "        # set metric\n",
        "        optModelScore = metrics.precision_score(Y_valid, optModel_pred_valid)\n",
        "        print('Model score is', optModelScore)\n",
        "        paramValidScores.append(optModelScore)\n",
        "    bestValidScore = max(paramValidScores)\n",
        "    bestScoreIndex = paramValidScores.index(bestValidScore)\n",
        "    bestParamValue = paramDict[key][bestScoreIndex]\n",
        "    print('Best validation score is', bestValidScore, key, '=', bestParamValue)"
      ],
      "metadata": {
        "colab": {
          "base_uri": "https://localhost:8080/"
        },
        "id": "nOu5qd6ZG2f_",
        "outputId": "1b8997b2-d5af-4649-9cf2-1be244bb170b"
      },
      "execution_count": 9,
      "outputs": [
        {
          "output_type": "stream",
          "name": "stdout",
          "text": [
            "Start training model with n_neighbors = 1\n",
            "Model score is 0.5\n",
            "Start training model with n_neighbors = 2\n",
            "Model score is 0.72\n",
            "Start training model with n_neighbors = 3\n",
            "Model score is 0.7058823529411765\n",
            "Start training model with n_neighbors = 4\n",
            "Model score is 0.7777777777777778\n",
            "Start training model with n_neighbors = 5\n",
            "Model score is 0.7419354838709677\n",
            "Start training model with n_neighbors = 6\n",
            "Model score is 0.75\n",
            "Start training model with n_neighbors = 7\n",
            "Model score is 0.7777777777777778\n",
            "Start training model with n_neighbors = 8\n",
            "Model score is 0.8333333333333334\n",
            "Start training model with n_neighbors = 9\n",
            "Model score is 0.7666666666666667\n",
            "Start training model with n_neighbors = 10\n",
            "Model score is 0.6956521739130435\n",
            "Start training model with n_neighbors = 11\n",
            "Model score is 0.7407407407407407\n",
            "Start training model with n_neighbors = 12\n",
            "Model score is 0.72\n",
            "Start training model with n_neighbors = 13\n",
            "Model score is 0.7407407407407407\n",
            "Start training model with n_neighbors = 14\n",
            "Model score is 0.75\n",
            "Start training model with n_neighbors = 15\n",
            "Model score is 0.7142857142857143\n",
            "Best validation score is 0.8333333333333334 n_neighbors = 8\n"
          ]
        }
      ]
    },
    {
      "cell_type": "code",
      "source": [
        "# set best param and calculate test score\n",
        "# final model evaluation\n",
        "bestGrid = {key: bestParamValue}\n",
        "optModel.set_params(**bestGrid)\n",
        "optModel.fit(X_train, Y_train)\n",
        "Y_pred_test = optModel.predict(X_test)\n",
        "testScore = metrics.precision_score(Y_test, Y_pred_test)\n",
        "print('Test precision is', testScore)"
      ],
      "metadata": {
        "colab": {
          "base_uri": "https://localhost:8080/"
        },
        "id": "Chx5zUKlV7CO",
        "outputId": "ae3a08a3-6869-4443-9dce-e923bc8d2a13"
      },
      "execution_count": 10,
      "outputs": [
        {
          "output_type": "stream",
          "name": "stdout",
          "text": [
            "Test precision is 0.7142857142857143\n"
          ]
        }
      ]
    },
    {
      "cell_type": "markdown",
      "source": [
        "Use GridSearchCV from sklearn"
      ],
      "metadata": {
        "id": "X_SSYOvLSU90"
      }
    },
    {
      "cell_type": "code",
      "source": [
        "precision_scorer = metrics.make_scorer(metrics.precision_score)\n",
        "gridSearch = GridSearchCV(estimator = KNeighborsClassifier(n_neighbors = 5), param_grid = paramDict, scoring = precision_scorer, cv = 5, verbose = 1)\n",
        "gridSearch.fit(X_train, Y_train)\n",
        "print(\"Best param is\", gridSearch.best_params_)\n",
        "print(\"Best CV score is\", gridSearch.best_score_)"
      ],
      "metadata": {
        "colab": {
          "base_uri": "https://localhost:8080/"
        },
        "id": "KMKUavtoL91y",
        "outputId": "dcd72b70-5afd-4237-c1f9-05064da4b045"
      },
      "execution_count": 13,
      "outputs": [
        {
          "output_type": "stream",
          "name": "stdout",
          "text": [
            "Fitting 5 folds for each of 15 candidates, totalling 75 fits\n",
            "Best param is {'n_neighbors': 14}\n",
            "Best CV score is 0.8794548626823191\n"
          ]
        }
      ]
    },
    {
      "cell_type": "markdown",
      "source": [
        "Return best model instance <br>\n",
        "Final evaluation on same test set"
      ],
      "metadata": {
        "id": "6CoXp8glS3k-"
      }
    },
    {
      "cell_type": "code",
      "source": [
        "bestModel = gridSearch.best_estimator_\n",
        "bestModel_Pred_test = bestModel.predict(X_test)\n",
        "testScoreCV = metrics.precision_score(Y_test, bestModel_Pred_test)\n",
        "print('Test precision is', testScoreCV)"
      ],
      "metadata": {
        "colab": {
          "base_uri": "https://localhost:8080/"
        },
        "id": "rdDZa37JOhmr",
        "outputId": "d2dd7d89-ee7f-40e9-83d3-275998f6fb4b"
      },
      "execution_count": 12,
      "outputs": [
        {
          "output_type": "stream",
          "name": "stdout",
          "text": [
            "Test precision is 0.7222222222222222\n"
          ]
        }
      ]
    }
  ]
}